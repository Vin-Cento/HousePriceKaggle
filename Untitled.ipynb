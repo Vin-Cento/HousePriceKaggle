{
 "cells": [
  {
   "cell_type": "code",
   "execution_count": 41,
   "metadata": {},
   "outputs": [],
   "source": [
    "import numpy as np\n",
    "import pandas as pd\n",
    "import scipy.stats as stats\n",
    "from sklearn.ensemble import GradientBoostingRegressor as GBR\n",
    "from sklearn.ensemble import RandomForestRegressor as RFR\n",
    "from sklearn.ensemble import AdaBoostRegressor as ABR"
   ]
  },
  {
   "cell_type": "code",
   "execution_count": 2,
   "metadata": {},
   "outputs": [],
   "source": [
    "train_DF = pd.read_csv(\"train_data.csv\")\n",
    "val_DF = pd.read_csv(\"val_data.csv\")"
   ]
  },
  {
   "cell_type": "code",
   "execution_count": 3,
   "metadata": {},
   "outputs": [
    {
     "name": "stdout",
     "output_type": "stream",
     "text": [
      "17290\n"
     ]
    },
    {
     "data": {
      "text/html": [
       "<div>\n",
       "<style scoped>\n",
       "    .dataframe tbody tr th:only-of-type {\n",
       "        vertical-align: middle;\n",
       "    }\n",
       "\n",
       "    .dataframe tbody tr th {\n",
       "        vertical-align: top;\n",
       "    }\n",
       "\n",
       "    .dataframe thead th {\n",
       "        text-align: right;\n",
       "    }\n",
       "</style>\n",
       "<table border=\"1\" class=\"dataframe\">\n",
       "  <thead>\n",
       "    <tr style=\"text-align: right;\">\n",
       "      <th></th>\n",
       "      <th>Unique_idx</th>\n",
       "      <th>id</th>\n",
       "      <th>date</th>\n",
       "      <th>bedrooms</th>\n",
       "      <th>bathrooms</th>\n",
       "      <th>sqft_living</th>\n",
       "      <th>sqft_lot</th>\n",
       "      <th>floors</th>\n",
       "      <th>waterfront</th>\n",
       "      <th>view</th>\n",
       "      <th>...</th>\n",
       "      <th>sqft_above</th>\n",
       "      <th>sqft_basement</th>\n",
       "      <th>yr_built</th>\n",
       "      <th>yr_renovated</th>\n",
       "      <th>zipcode</th>\n",
       "      <th>lat</th>\n",
       "      <th>long</th>\n",
       "      <th>sqft_living15</th>\n",
       "      <th>sqft_lot15</th>\n",
       "      <th>price</th>\n",
       "    </tr>\n",
       "  </thead>\n",
       "  <tbody>\n",
       "    <tr>\n",
       "      <td>0</td>\n",
       "      <td>7291</td>\n",
       "      <td>4058200630</td>\n",
       "      <td>20141002T000000</td>\n",
       "      <td>3</td>\n",
       "      <td>1.75</td>\n",
       "      <td>2190</td>\n",
       "      <td>7021</td>\n",
       "      <td>1.0</td>\n",
       "      <td>0</td>\n",
       "      <td>2</td>\n",
       "      <td>...</td>\n",
       "      <td>1390</td>\n",
       "      <td>800</td>\n",
       "      <td>1953</td>\n",
       "      <td>0</td>\n",
       "      <td>98178</td>\n",
       "      <td>47.5033</td>\n",
       "      <td>-122.232</td>\n",
       "      <td>2180</td>\n",
       "      <td>7155</td>\n",
       "      <td>353000</td>\n",
       "    </tr>\n",
       "    <tr>\n",
       "      <td>1</td>\n",
       "      <td>14835</td>\n",
       "      <td>3613600150</td>\n",
       "      <td>20150105T000000</td>\n",
       "      <td>3</td>\n",
       "      <td>2.50</td>\n",
       "      <td>2370</td>\n",
       "      <td>6840</td>\n",
       "      <td>2.0</td>\n",
       "      <td>0</td>\n",
       "      <td>0</td>\n",
       "      <td>...</td>\n",
       "      <td>2370</td>\n",
       "      <td>0</td>\n",
       "      <td>1987</td>\n",
       "      <td>0</td>\n",
       "      <td>98119</td>\n",
       "      <td>47.6503</td>\n",
       "      <td>-122.366</td>\n",
       "      <td>1590</td>\n",
       "      <td>4400</td>\n",
       "      <td>300523</td>\n",
       "    </tr>\n",
       "    <tr>\n",
       "      <td>2</td>\n",
       "      <td>15880</td>\n",
       "      <td>7170200080</td>\n",
       "      <td>20140617T000000</td>\n",
       "      <td>2</td>\n",
       "      <td>1.00</td>\n",
       "      <td>1230</td>\n",
       "      <td>3800</td>\n",
       "      <td>1.0</td>\n",
       "      <td>0</td>\n",
       "      <td>0</td>\n",
       "      <td>...</td>\n",
       "      <td>1230</td>\n",
       "      <td>0</td>\n",
       "      <td>1928</td>\n",
       "      <td>0</td>\n",
       "      <td>98115</td>\n",
       "      <td>47.6797</td>\n",
       "      <td>-122.292</td>\n",
       "      <td>1610</td>\n",
       "      <td>3800</td>\n",
       "      <td>435000</td>\n",
       "    </tr>\n",
       "    <tr>\n",
       "      <td>3</td>\n",
       "      <td>8812</td>\n",
       "      <td>9542300530</td>\n",
       "      <td>20141124T000000</td>\n",
       "      <td>4</td>\n",
       "      <td>2.25</td>\n",
       "      <td>2510</td>\n",
       "      <td>9963</td>\n",
       "      <td>1.0</td>\n",
       "      <td>0</td>\n",
       "      <td>0</td>\n",
       "      <td>...</td>\n",
       "      <td>2200</td>\n",
       "      <td>310</td>\n",
       "      <td>1967</td>\n",
       "      <td>0</td>\n",
       "      <td>98005</td>\n",
       "      <td>47.5973</td>\n",
       "      <td>-122.177</td>\n",
       "      <td>3110</td>\n",
       "      <td>9963</td>\n",
       "      <td>800000</td>\n",
       "    </tr>\n",
       "    <tr>\n",
       "      <td>4</td>\n",
       "      <td>17220</td>\n",
       "      <td>3626039028</td>\n",
       "      <td>20140818T000000</td>\n",
       "      <td>3</td>\n",
       "      <td>1.00</td>\n",
       "      <td>1160</td>\n",
       "      <td>7491</td>\n",
       "      <td>1.0</td>\n",
       "      <td>0</td>\n",
       "      <td>0</td>\n",
       "      <td>...</td>\n",
       "      <td>1160</td>\n",
       "      <td>0</td>\n",
       "      <td>1917</td>\n",
       "      <td>0</td>\n",
       "      <td>98177</td>\n",
       "      <td>47.7024</td>\n",
       "      <td>-122.359</td>\n",
       "      <td>1800</td>\n",
       "      <td>2267</td>\n",
       "      <td>417500</td>\n",
       "    </tr>\n",
       "  </tbody>\n",
       "</table>\n",
       "<p>5 rows × 22 columns</p>\n",
       "</div>"
      ],
      "text/plain": [
       "   Unique_idx          id             date  bedrooms  bathrooms  sqft_living  \\\n",
       "0        7291  4058200630  20141002T000000         3       1.75         2190   \n",
       "1       14835  3613600150  20150105T000000         3       2.50         2370   \n",
       "2       15880  7170200080  20140617T000000         2       1.00         1230   \n",
       "3        8812  9542300530  20141124T000000         4       2.25         2510   \n",
       "4       17220  3626039028  20140818T000000         3       1.00         1160   \n",
       "\n",
       "   sqft_lot  floors  waterfront  view  ...  sqft_above  sqft_basement  \\\n",
       "0      7021     1.0           0     2  ...        1390            800   \n",
       "1      6840     2.0           0     0  ...        2370              0   \n",
       "2      3800     1.0           0     0  ...        1230              0   \n",
       "3      9963     1.0           0     0  ...        2200            310   \n",
       "4      7491     1.0           0     0  ...        1160              0   \n",
       "\n",
       "   yr_built  yr_renovated  zipcode      lat     long  sqft_living15  \\\n",
       "0      1953             0    98178  47.5033 -122.232           2180   \n",
       "1      1987             0    98119  47.6503 -122.366           1590   \n",
       "2      1928             0    98115  47.6797 -122.292           1610   \n",
       "3      1967             0    98005  47.5973 -122.177           3110   \n",
       "4      1917             0    98177  47.7024 -122.359           1800   \n",
       "\n",
       "   sqft_lot15   price  \n",
       "0        7155  353000  \n",
       "1        4400  300523  \n",
       "2        3800  435000  \n",
       "3        9963  800000  \n",
       "4        2267  417500  \n",
       "\n",
       "[5 rows x 22 columns]"
      ]
     },
     "execution_count": 3,
     "metadata": {},
     "output_type": "execute_result"
    }
   ],
   "source": [
    "print(len(train_DF))\n",
    "train_DF.head()"
   ]
  },
  {
   "cell_type": "code",
   "execution_count": 4,
   "metadata": {},
   "outputs": [
    {
     "name": "stdout",
     "output_type": "stream",
     "text": [
      "4323\n"
     ]
    },
    {
     "data": {
      "text/html": [
       "<div>\n",
       "<style scoped>\n",
       "    .dataframe tbody tr th:only-of-type {\n",
       "        vertical-align: middle;\n",
       "    }\n",
       "\n",
       "    .dataframe tbody tr th {\n",
       "        vertical-align: top;\n",
       "    }\n",
       "\n",
       "    .dataframe thead th {\n",
       "        text-align: right;\n",
       "    }\n",
       "</style>\n",
       "<table border=\"1\" class=\"dataframe\">\n",
       "  <thead>\n",
       "    <tr style=\"text-align: right;\">\n",
       "      <th></th>\n",
       "      <th>Unique_idx</th>\n",
       "      <th>id</th>\n",
       "      <th>date</th>\n",
       "      <th>bedrooms</th>\n",
       "      <th>bathrooms</th>\n",
       "      <th>sqft_living</th>\n",
       "      <th>sqft_lot</th>\n",
       "      <th>floors</th>\n",
       "      <th>waterfront</th>\n",
       "      <th>view</th>\n",
       "      <th>...</th>\n",
       "      <th>grade</th>\n",
       "      <th>sqft_above</th>\n",
       "      <th>sqft_basement</th>\n",
       "      <th>yr_built</th>\n",
       "      <th>yr_renovated</th>\n",
       "      <th>zipcode</th>\n",
       "      <th>lat</th>\n",
       "      <th>long</th>\n",
       "      <th>sqft_living15</th>\n",
       "      <th>sqft_lot15</th>\n",
       "    </tr>\n",
       "  </thead>\n",
       "  <tbody>\n",
       "    <tr>\n",
       "      <td>0</td>\n",
       "      <td>15544</td>\n",
       "      <td>1310430130</td>\n",
       "      <td>20141009T000000</td>\n",
       "      <td>4</td>\n",
       "      <td>2.75</td>\n",
       "      <td>2790</td>\n",
       "      <td>6600</td>\n",
       "      <td>2.0</td>\n",
       "      <td>0</td>\n",
       "      <td>0</td>\n",
       "      <td>...</td>\n",
       "      <td>9</td>\n",
       "      <td>2790</td>\n",
       "      <td>0</td>\n",
       "      <td>2000</td>\n",
       "      <td>0</td>\n",
       "      <td>98058</td>\n",
       "      <td>47.4362</td>\n",
       "      <td>-122.109</td>\n",
       "      <td>2900</td>\n",
       "      <td>6752</td>\n",
       "    </tr>\n",
       "    <tr>\n",
       "      <td>1</td>\n",
       "      <td>17454</td>\n",
       "      <td>2540830020</td>\n",
       "      <td>20150401T000000</td>\n",
       "      <td>3</td>\n",
       "      <td>2.25</td>\n",
       "      <td>1630</td>\n",
       "      <td>6449</td>\n",
       "      <td>1.0</td>\n",
       "      <td>0</td>\n",
       "      <td>0</td>\n",
       "      <td>...</td>\n",
       "      <td>7</td>\n",
       "      <td>1310</td>\n",
       "      <td>320</td>\n",
       "      <td>1986</td>\n",
       "      <td>0</td>\n",
       "      <td>98011</td>\n",
       "      <td>47.7275</td>\n",
       "      <td>-122.232</td>\n",
       "      <td>1620</td>\n",
       "      <td>7429</td>\n",
       "    </tr>\n",
       "    <tr>\n",
       "      <td>2</td>\n",
       "      <td>21548</td>\n",
       "      <td>8835770330</td>\n",
       "      <td>20140819T000000</td>\n",
       "      <td>2</td>\n",
       "      <td>1.50</td>\n",
       "      <td>2370</td>\n",
       "      <td>184231</td>\n",
       "      <td>2.0</td>\n",
       "      <td>0</td>\n",
       "      <td>0</td>\n",
       "      <td>...</td>\n",
       "      <td>11</td>\n",
       "      <td>2370</td>\n",
       "      <td>0</td>\n",
       "      <td>2005</td>\n",
       "      <td>0</td>\n",
       "      <td>98045</td>\n",
       "      <td>47.4543</td>\n",
       "      <td>-121.778</td>\n",
       "      <td>3860</td>\n",
       "      <td>151081</td>\n",
       "    </tr>\n",
       "    <tr>\n",
       "      <td>3</td>\n",
       "      <td>3427</td>\n",
       "      <td>7732400490</td>\n",
       "      <td>20141105T000000</td>\n",
       "      <td>4</td>\n",
       "      <td>2.50</td>\n",
       "      <td>2270</td>\n",
       "      <td>7665</td>\n",
       "      <td>2.0</td>\n",
       "      <td>0</td>\n",
       "      <td>0</td>\n",
       "      <td>...</td>\n",
       "      <td>9</td>\n",
       "      <td>2270</td>\n",
       "      <td>0</td>\n",
       "      <td>1986</td>\n",
       "      <td>0</td>\n",
       "      <td>98052</td>\n",
       "      <td>47.6612</td>\n",
       "      <td>-122.148</td>\n",
       "      <td>2450</td>\n",
       "      <td>8706</td>\n",
       "    </tr>\n",
       "    <tr>\n",
       "      <td>4</td>\n",
       "      <td>8809</td>\n",
       "      <td>2800031</td>\n",
       "      <td>20150401T000000</td>\n",
       "      <td>3</td>\n",
       "      <td>1.00</td>\n",
       "      <td>1430</td>\n",
       "      <td>7599</td>\n",
       "      <td>1.5</td>\n",
       "      <td>0</td>\n",
       "      <td>0</td>\n",
       "      <td>...</td>\n",
       "      <td>6</td>\n",
       "      <td>1010</td>\n",
       "      <td>420</td>\n",
       "      <td>1930</td>\n",
       "      <td>0</td>\n",
       "      <td>98168</td>\n",
       "      <td>47.4783</td>\n",
       "      <td>-122.265</td>\n",
       "      <td>1290</td>\n",
       "      <td>10320</td>\n",
       "    </tr>\n",
       "  </tbody>\n",
       "</table>\n",
       "<p>5 rows × 21 columns</p>\n",
       "</div>"
      ],
      "text/plain": [
       "   Unique_idx          id             date  bedrooms  bathrooms  sqft_living  \\\n",
       "0       15544  1310430130  20141009T000000         4       2.75         2790   \n",
       "1       17454  2540830020  20150401T000000         3       2.25         1630   \n",
       "2       21548  8835770330  20140819T000000         2       1.50         2370   \n",
       "3        3427  7732400490  20141105T000000         4       2.50         2270   \n",
       "4        8809     2800031  20150401T000000         3       1.00         1430   \n",
       "\n",
       "   sqft_lot  floors  waterfront  view  ...  grade  sqft_above  sqft_basement  \\\n",
       "0      6600     2.0           0     0  ...      9        2790              0   \n",
       "1      6449     1.0           0     0  ...      7        1310            320   \n",
       "2    184231     2.0           0     0  ...     11        2370              0   \n",
       "3      7665     2.0           0     0  ...      9        2270              0   \n",
       "4      7599     1.5           0     0  ...      6        1010            420   \n",
       "\n",
       "   yr_built  yr_renovated  zipcode      lat     long  sqft_living15  \\\n",
       "0      2000             0    98058  47.4362 -122.109           2900   \n",
       "1      1986             0    98011  47.7275 -122.232           1620   \n",
       "2      2005             0    98045  47.4543 -121.778           3860   \n",
       "3      1986             0    98052  47.6612 -122.148           2450   \n",
       "4      1930             0    98168  47.4783 -122.265           1290   \n",
       "\n",
       "   sqft_lot15  \n",
       "0        6752  \n",
       "1        7429  \n",
       "2      151081  \n",
       "3        8706  \n",
       "4       10320  \n",
       "\n",
       "[5 rows x 21 columns]"
      ]
     },
     "execution_count": 4,
     "metadata": {},
     "output_type": "execute_result"
    }
   ],
   "source": [
    "print(len(val_DF))\n",
    "val_DF.head()"
   ]
  },
  {
   "cell_type": "code",
   "execution_count": 5,
   "metadata": {},
   "outputs": [],
   "source": [
    "X, y = train_DF.iloc[:, 2:-1], train_DF.iloc[:, -1]\n",
    "X.date = X.date.apply(lambda x: x.split('T')[0])\n",
    "X.date = X.date.astype(int)\n",
    "\n",
    "val_DF.date = val_DF.date.apply(lambda x: x.split('T')[0])\n",
    "val_DF.date = val_DF.date.astype(int)"
   ]
  },
  {
   "cell_type": "code",
   "execution_count": 6,
   "metadata": {},
   "outputs": [],
   "source": [
    "train_x, train_y = X[:5000], y[:5000]\n",
    "val_x, val_y = X[5000:10000], y[5000: 10000]\n",
    "test_x, test_y = X[10000:], y[10000:]"
   ]
  },
  {
   "cell_type": "code",
   "execution_count": 7,
   "metadata": {},
   "outputs": [],
   "source": [
    "model1 = GBR(n_estimators=300, learning_rate=0.01, max_depth = 1).fit(train_x, train_y)\n",
    "model2 = GBR(n_estimators=300, learning_rate=0.01, max_depth = 2).fit(train_x, train_y)\n",
    "model3 = GBR(n_estimators=300, learning_rate=0.01, max_depth = 3).fit(train_x, train_y)\n",
    "model4 = GBR(n_estimators=300, learning_rate=0.01, max_depth = 4).fit(train_x, train_y)"
   ]
  },
  {
   "cell_type": "code",
   "execution_count": 16,
   "metadata": {},
   "outputs": [],
   "source": [
    "def namestr(obj, namespace=globals()):\n",
    "    return [name for name in namespace if namespace[name] is obj]\n",
    "\n",
    "def modelscore(models):\n",
    "    for model in models:\n",
    "        print(f'{namestr(model)} train score : {model.score(train_x, train_y)}')\n",
    "        print(f'{namestr(model)} val score : {model.score(val_x, val_y)}')\n",
    "        print(f'{namestr(model)} test score : {model.score(test_x, test_y)}\\n')"
   ]
  },
  {
   "cell_type": "code",
   "execution_count": 17,
   "metadata": {},
   "outputs": [
    {
     "name": "stdout",
     "output_type": "stream",
     "text": [
      "['model1'] train score : 0.6109155568001434\n",
      "['model1'] val score : 0.563734870491137\n",
      "['model1'] test score : 0.5822417657935051\n",
      "\n",
      "['model2'] train score : 0.7482727204750935\n",
      "['model2'] val score : 0.6886151516244221\n",
      "['model2'] test score : 0.7095504813261144\n",
      "\n",
      "['model3'] train score : 0.8343118680729269\n",
      "['model3'] val score : 0.7676192688990933\n",
      "['model3'] test score : 0.7876885703053644\n",
      "\n",
      "['model4'] train score : 0.8851090440731366\n",
      "['model4'] val score : 0.8006834000373046\n",
      "['model4'] test score : 0.8213826212658444\n",
      "\n"
     ]
    }
   ],
   "source": [
    "models = [model1, model2, model3, model4]\n",
    "modelscore(models)"
   ]
  },
  {
   "cell_type": "code",
   "execution_count": 18,
   "metadata": {},
   "outputs": [],
   "source": [
    "model5 = GBR(n_estimators=300, learning_rate=0.1, max_depth = 4).fit(train_x, train_y)\n",
    "model6 = GBR(n_estimators=300, learning_rate=0.05, max_depth = 4).fit(train_x, train_y)\n",
    "model7 = GBR(n_estimators=300, learning_rate=0.01, max_depth = 4).fit(train_x, train_y)\n",
    "model8 = GBR(n_estimators=300, learning_rate=0.001, max_depth = 4).fit(train_x, train_y)"
   ]
  },
  {
   "cell_type": "code",
   "execution_count": 20,
   "metadata": {},
   "outputs": [
    {
     "name": "stdout",
     "output_type": "stream",
     "text": [
      "['model5'] train score : 0.9726067284002164\n",
      "['model5'] val score : 0.8590099545200645\n",
      "['model5'] test score : 0.8700086216750392\n",
      "\n",
      "['model6'] train score : 0.9550368050830733\n",
      "['model6'] val score : 0.8564040531895618\n",
      "['model6'] test score : 0.8662410662055412\n",
      "\n",
      "['model7'] train score : 0.8851090440731366\n",
      "['model7'] val score : 0.8008432504616473\n",
      "['model7'] test score : 0.8213913622563801\n",
      "\n",
      "['model8'] train score : 0.3325633587609149\n",
      "['model8'] val score : 0.3021574329738733\n",
      "['model8'] test score : 0.31382177728412586\n",
      "\n"
     ]
    }
   ],
   "source": [
    "models = [model5, model6, model7,model8]\n",
    "modelscore(models)"
   ]
  },
  {
   "cell_type": "code",
   "execution_count": 40,
   "metadata": {},
   "outputs": [
    {
     "name": "stdout",
     "output_type": "stream",
     "text": [
      "3800000\n",
      "75000\n"
     ]
    }
   ],
   "source": [
    "print(train_y.max())\n",
    "print(train_y.min())\n",
    "modelG5 = GBR(n_estimators=300, learning_rate=0.05, max_depth = 6).fit(train_x, train_y)"
   ]
  },
  {
   "cell_type": "code",
   "execution_count": 39,
   "metadata": {},
   "outputs": [
    {
     "name": "stdout",
     "output_type": "stream",
     "text": [
      "['model5_1'] train score : 0.9846491775532465\n",
      "['model5_1'] val score : 0.8508865253808549\n",
      "['model5_1'] test score : 0.8632977457543469\n",
      "\n"
     ]
    }
   ],
   "source": [
    "modelscore([model5_1])"
   ]
  },
  {
   "cell_type": "code",
   "execution_count": 14,
   "metadata": {},
   "outputs": [],
   "source": [
    "y_predict = model5.predict(val_DF.iloc[:, 2:])"
   ]
  },
  {
   "cell_type": "code",
   "execution_count": 16,
   "metadata": {},
   "outputs": [
    {
     "ename": "AttributeError",
     "evalue": "'DataFrame' object has no attribute 'Unique_idx'",
     "output_type": "error",
     "traceback": [
      "\u001b[1;31m---------------------------------------------------------------------------\u001b[0m",
      "\u001b[1;31mAttributeError\u001b[0m                            Traceback (most recent call last)",
      "\u001b[1;32m<ipython-input-16-30efdbeebafc>\u001b[0m in \u001b[0;36m<module>\u001b[1;34m\u001b[0m\n\u001b[1;32m----> 1\u001b[1;33m \u001b[0msubmission_DF\u001b[0m \u001b[1;33m=\u001b[0m \u001b[0mpd\u001b[0m\u001b[1;33m.\u001b[0m\u001b[0mDataFrame\u001b[0m\u001b[1;33m(\u001b[0m\u001b[0mval_DF\u001b[0m\u001b[1;33m.\u001b[0m\u001b[0mUnique_idx\u001b[0m\u001b[1;33m)\u001b[0m\u001b[1;33m\u001b[0m\u001b[1;33m\u001b[0m\u001b[0m\n\u001b[0m",
      "\u001b[1;32m~\\Anaconda3\\lib\\site-packages\\pandas\\core\\generic.py\u001b[0m in \u001b[0;36m__getattr__\u001b[1;34m(self, name)\u001b[0m\n\u001b[0;32m   5177\u001b[0m             \u001b[1;32mif\u001b[0m \u001b[0mself\u001b[0m\u001b[1;33m.\u001b[0m\u001b[0m_info_axis\u001b[0m\u001b[1;33m.\u001b[0m\u001b[0m_can_hold_identifiers_and_holds_name\u001b[0m\u001b[1;33m(\u001b[0m\u001b[0mname\u001b[0m\u001b[1;33m)\u001b[0m\u001b[1;33m:\u001b[0m\u001b[1;33m\u001b[0m\u001b[1;33m\u001b[0m\u001b[0m\n\u001b[0;32m   5178\u001b[0m                 \u001b[1;32mreturn\u001b[0m \u001b[0mself\u001b[0m\u001b[1;33m[\u001b[0m\u001b[0mname\u001b[0m\u001b[1;33m]\u001b[0m\u001b[1;33m\u001b[0m\u001b[1;33m\u001b[0m\u001b[0m\n\u001b[1;32m-> 5179\u001b[1;33m             \u001b[1;32mreturn\u001b[0m \u001b[0mobject\u001b[0m\u001b[1;33m.\u001b[0m\u001b[0m__getattribute__\u001b[0m\u001b[1;33m(\u001b[0m\u001b[0mself\u001b[0m\u001b[1;33m,\u001b[0m \u001b[0mname\u001b[0m\u001b[1;33m)\u001b[0m\u001b[1;33m\u001b[0m\u001b[1;33m\u001b[0m\u001b[0m\n\u001b[0m\u001b[0;32m   5180\u001b[0m \u001b[1;33m\u001b[0m\u001b[0m\n\u001b[0;32m   5181\u001b[0m     \u001b[1;32mdef\u001b[0m \u001b[0m__setattr__\u001b[0m\u001b[1;33m(\u001b[0m\u001b[0mself\u001b[0m\u001b[1;33m,\u001b[0m \u001b[0mname\u001b[0m\u001b[1;33m,\u001b[0m \u001b[0mvalue\u001b[0m\u001b[1;33m)\u001b[0m\u001b[1;33m:\u001b[0m\u001b[1;33m\u001b[0m\u001b[1;33m\u001b[0m\u001b[0m\n",
      "\u001b[1;31mAttributeError\u001b[0m: 'DataFrame' object has no attribute 'Unique_idx'"
     ]
    }
   ],
   "source": [
    "submission_DF = pd.DataFrame(val_DF.Unique_idx)"
   ]
  },
  {
   "cell_type": "code",
   "execution_count": null,
   "metadata": {},
   "outputs": [],
   "source": [
    "submission_DF['price'] = y_predict"
   ]
  },
  {
   "cell_type": "code",
   "execution_count": 56,
   "metadata": {},
   "outputs": [
    {
     "data": {
      "text/html": [
       "<div>\n",
       "<style scoped>\n",
       "    .dataframe tbody tr th:only-of-type {\n",
       "        vertical-align: middle;\n",
       "    }\n",
       "\n",
       "    .dataframe tbody tr th {\n",
       "        vertical-align: top;\n",
       "    }\n",
       "\n",
       "    .dataframe thead th {\n",
       "        text-align: right;\n",
       "    }\n",
       "</style>\n",
       "<table border=\"1\" class=\"dataframe\">\n",
       "  <thead>\n",
       "    <tr style=\"text-align: right;\">\n",
       "      <th></th>\n",
       "      <th>Unique_idx</th>\n",
       "      <th>price</th>\n",
       "    </tr>\n",
       "  </thead>\n",
       "  <tbody>\n",
       "    <tr>\n",
       "      <th>0</th>\n",
       "      <td>15544</td>\n",
       "      <td>470024.222006</td>\n",
       "    </tr>\n",
       "    <tr>\n",
       "      <th>1</th>\n",
       "      <td>17454</td>\n",
       "      <td>444118.451936</td>\n",
       "    </tr>\n",
       "    <tr>\n",
       "      <th>2</th>\n",
       "      <td>21548</td>\n",
       "      <td>639684.889108</td>\n",
       "    </tr>\n",
       "    <tr>\n",
       "      <th>3</th>\n",
       "      <td>3427</td>\n",
       "      <td>688891.698948</td>\n",
       "    </tr>\n",
       "    <tr>\n",
       "      <th>4</th>\n",
       "      <td>8809</td>\n",
       "      <td>264932.883342</td>\n",
       "    </tr>\n",
       "  </tbody>\n",
       "</table>\n",
       "</div>"
      ],
      "text/plain": [
       "   Unique_idx          price\n",
       "0       15544  470024.222006\n",
       "1       17454  444118.451936\n",
       "2       21548  639684.889108\n",
       "3        3427  688891.698948\n",
       "4        8809  264932.883342"
      ]
     },
     "execution_count": 56,
     "metadata": {},
     "output_type": "execute_result"
    }
   ],
   "source": [
    "submission_DF.head()"
   ]
  },
  {
   "cell_type": "code",
   "execution_count": 58,
   "metadata": {},
   "outputs": [],
   "source": [
    "submission_DF.to_csv(\"submission.csv\")"
   ]
  },
  {
   "cell_type": "code",
   "execution_count": 32,
   "metadata": {},
   "outputs": [],
   "source": [
    "modelF1 = RFR(n_estimators=100, min_samples_split=2).fit(train_x, train_y)\n",
    "modelF2 = RFR(n_estimators=100, min_samples_split=3).fit(train_x, train_y)\n",
    "modelF3 = RFR(n_estimators=100, min_samples_split=4).fit(train_x, train_y)\n",
    "modelF4 = RFR(n_estimators=100, min_samples_split=5).fit(train_x, train_y)\n",
    "models = [modelF1, modelF2, modelF3, modelF4]"
   ]
  },
  {
   "cell_type": "code",
   "execution_count": 33,
   "metadata": {},
   "outputs": [
    {
     "name": "stdout",
     "output_type": "stream",
     "text": [
      "['modelF1'] train score : 0.9795018518888455\n",
      "['modelF1'] val score : 0.8387439530191307\n",
      "['modelF1'] test score : 0.8502871636441003\n",
      "\n",
      "['modelF2'] train score : 0.9768348635757496\n",
      "['modelF2'] val score : 0.8384480931107965\n",
      "['modelF2'] test score : 0.8496048878405841\n",
      "\n",
      "['modelF3'] train score : 0.975079707956222\n",
      "['modelF3'] val score : 0.8341062047348935\n",
      "['modelF3'] test score : 0.8499274331515985\n",
      "\n",
      "['modelF4'] train score : 0.9722284922872174\n",
      "['modelF4'] val score : 0.8393734187912928\n",
      "['modelF4'] test score : 0.8498897123996324\n",
      "\n"
     ]
    }
   ],
   "source": [
    "modelscore(models)"
   ]
  },
  {
   "cell_type": "code",
   "execution_count": 42,
   "metadata": {},
   "outputs": [],
   "source": [
    "modelF5 = RFR(n_estimators=50, min_samples_split=2).fit(train_x, train_y)\n",
    "modelG5 = GBR(n_estimators=300, learning_rate=0.05, max_depth = 6).fit(train_x, train_y)"
   ]
  },
  {
   "cell_type": "code",
   "execution_count": null,
   "metadata": {},
   "outputs": [],
   "source": [
    "modelA1 = ABR(n_estimators=100, base_estimator=modelG5, learning_rate=0.1).fit(train_x, train_y)"
   ]
  },
  {
   "cell_type": "code",
   "execution_count": null,
   "metadata": {},
   "outputs": [],
   "source": [
    "modelscore([modelA1])"
   ]
  },
  {
   "cell_type": "code",
   "execution_count": null,
   "metadata": {},
   "outputs": [],
   "source": [
    "def Forest(x, y, model, features, trees_amount):\n",
    "    "
   ]
  }
 ],
 "metadata": {
  "kernelspec": {
   "display_name": "Python 3",
   "language": "python",
   "name": "python3"
  },
  "language_info": {
   "codemirror_mode": {
    "name": "ipython",
    "version": 3
   },
   "file_extension": ".py",
   "mimetype": "text/x-python",
   "name": "python",
   "nbconvert_exporter": "python",
   "pygments_lexer": "ipython3",
   "version": "3.7.4"
  }
 },
 "nbformat": 4,
 "nbformat_minor": 4
}
